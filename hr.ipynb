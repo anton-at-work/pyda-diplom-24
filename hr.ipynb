{
  "nbformat": 4,
  "nbformat_minor": 0,
  "metadata": {
    "colab": {
      "name": "Диплом HR.ipynb",
      "provenance": [],
      "collapsed_sections": []
    },
    "kernelspec": {
      "name": "python3",
      "display_name": "Python 3"
    },
    "language_info": {
      "name": "python"
    }
  },
  "cells": [
    {
      "cell_type": "markdown",
      "metadata": {
        "id": "Z8GElL_TWepM"
      },
      "source": [
        "#Дипломная работа по курсу \"Python для анализа данных\"\n",
        "\n",
        "Дан файл HR.csv с данными по опросу уровня удовлетворенности сотрудниками работой.Файл доступен тут - https://drive.google.com/file/d/1INgo03nal-vwFJe7Lec5vOUtOwfJdUr1/view \n",
        "\n",
        "1. satisfaction_level​ - Уровень удовлетворенности работой\n",
        "2. Last_evaluation ​- Время с момента последней оценки в годах\n",
        "3. number_projects​ - Количество проектов, выполненных за время работы\n",
        "4. average_monthly_hours​ - Среднее количество часов на рабочем месте в месяц\n",
        "5. time_spend_company​ - Стаж работы в компании в годах\n",
        "6. work_accident​ - Происходили ли несчастные случаи на рабочем месте с сотрудником\n",
        "7. left​ - уволился ли сотрудник\n",
        "8. promotion_last_5years​ - повышался ли сотрудник за последние пять лет\n",
        "9. department ​- отдел в котором работает сотрудник\n",
        "10. salary​ - относительный уровень зарплаты\n"
      ]
    },
    {
      "cell_type": "code",
      "metadata": {
        "id": "1bF5pDz-oV0I"
      },
      "source": [
        "import pandas as pd\n",
        "import numpy as np\n",
        "import matplotlib.pyplot as plt\n",
        "import seaborn as sns"
      ],
      "execution_count": null,
      "outputs": []
    },
    {
      "cell_type": "markdown",
      "metadata": {
        "id": "Bp9rndn8oXqs"
      },
      "source": [
        "#Задание 1\n",
        "Загрузите файл HR.csv в pandas dataframe"
      ]
    },
    {
      "cell_type": "code",
      "metadata": {
        "colab": {
          "base_uri": "https://localhost:8080/",
          "height": 204
        },
        "id": "sjWJ0e3rob7X",
        "outputId": "39dfca6b-ad49-43cc-ac29-12c8d9813e1c"
      },
      "source": [
        "# для удобства загрузил файл на свой хостинг\n",
        "df = pd.read_csv('https://anton-at-work.ru/files-for-study/HR.csv')\n",
        "\n",
        "df.head()"
      ],
      "execution_count": null,
      "outputs": [
        {
          "output_type": "execute_result",
          "data": {
            "text/html": [
              "<div>\n",
              "<style scoped>\n",
              "    .dataframe tbody tr th:only-of-type {\n",
              "        vertical-align: middle;\n",
              "    }\n",
              "\n",
              "    .dataframe tbody tr th {\n",
              "        vertical-align: top;\n",
              "    }\n",
              "\n",
              "    .dataframe thead th {\n",
              "        text-align: right;\n",
              "    }\n",
              "</style>\n",
              "<table border=\"1\" class=\"dataframe\">\n",
              "  <thead>\n",
              "    <tr style=\"text-align: right;\">\n",
              "      <th></th>\n",
              "      <th>satisfaction_level</th>\n",
              "      <th>last_evaluation</th>\n",
              "      <th>number_project</th>\n",
              "      <th>average_montly_hours</th>\n",
              "      <th>time_spend_company</th>\n",
              "      <th>Work_accident</th>\n",
              "      <th>left</th>\n",
              "      <th>promotion_last_5years</th>\n",
              "      <th>department</th>\n",
              "      <th>salary</th>\n",
              "    </tr>\n",
              "  </thead>\n",
              "  <tbody>\n",
              "    <tr>\n",
              "      <th>0</th>\n",
              "      <td>0.38</td>\n",
              "      <td>0.53</td>\n",
              "      <td>2</td>\n",
              "      <td>157</td>\n",
              "      <td>3</td>\n",
              "      <td>0</td>\n",
              "      <td>1</td>\n",
              "      <td>0</td>\n",
              "      <td>sales</td>\n",
              "      <td>low</td>\n",
              "    </tr>\n",
              "    <tr>\n",
              "      <th>1</th>\n",
              "      <td>0.80</td>\n",
              "      <td>0.86</td>\n",
              "      <td>5</td>\n",
              "      <td>262</td>\n",
              "      <td>6</td>\n",
              "      <td>0</td>\n",
              "      <td>1</td>\n",
              "      <td>0</td>\n",
              "      <td>sales</td>\n",
              "      <td>medium</td>\n",
              "    </tr>\n",
              "    <tr>\n",
              "      <th>2</th>\n",
              "      <td>0.11</td>\n",
              "      <td>0.88</td>\n",
              "      <td>7</td>\n",
              "      <td>272</td>\n",
              "      <td>4</td>\n",
              "      <td>0</td>\n",
              "      <td>1</td>\n",
              "      <td>0</td>\n",
              "      <td>sales</td>\n",
              "      <td>medium</td>\n",
              "    </tr>\n",
              "    <tr>\n",
              "      <th>3</th>\n",
              "      <td>0.72</td>\n",
              "      <td>0.87</td>\n",
              "      <td>5</td>\n",
              "      <td>223</td>\n",
              "      <td>5</td>\n",
              "      <td>0</td>\n",
              "      <td>1</td>\n",
              "      <td>0</td>\n",
              "      <td>sales</td>\n",
              "      <td>low</td>\n",
              "    </tr>\n",
              "    <tr>\n",
              "      <th>4</th>\n",
              "      <td>0.37</td>\n",
              "      <td>0.52</td>\n",
              "      <td>2</td>\n",
              "      <td>159</td>\n",
              "      <td>3</td>\n",
              "      <td>0</td>\n",
              "      <td>1</td>\n",
              "      <td>0</td>\n",
              "      <td>sales</td>\n",
              "      <td>low</td>\n",
              "    </tr>\n",
              "  </tbody>\n",
              "</table>\n",
              "</div>"
            ],
            "text/plain": [
              "   satisfaction_level  last_evaluation  ...  department  salary\n",
              "0                0.38             0.53  ...       sales     low\n",
              "1                0.80             0.86  ...       sales  medium\n",
              "2                0.11             0.88  ...       sales  medium\n",
              "3                0.72             0.87  ...       sales     low\n",
              "4                0.37             0.52  ...       sales     low\n",
              "\n",
              "[5 rows x 10 columns]"
            ]
          },
          "metadata": {},
          "execution_count": 2
        }
      ]
    },
    {
      "cell_type": "code",
      "metadata": {
        "id": "AEsxNI80qBd5"
      },
      "source": [
        "df_dismissed = df[df['left'] == 1] # уволенные сотрудники\n",
        "df_current = df[df['left'] == 0] # действующие сотрудники"
      ],
      "execution_count": null,
      "outputs": []
    },
    {
      "cell_type": "markdown",
      "metadata": {
        "id": "K3M5GW3kq_A8"
      },
      "source": [
        "##Задание 2\n",
        "Рассчитайте основные статистики для переменных (среднее,медиана,мода,мин/макс,сред.отклонение)."
      ]
    },
    {
      "cell_type": "code",
      "metadata": {
        "colab": {
          "base_uri": "https://localhost:8080/",
          "height": 390
        },
        "id": "xF8XOEAr7hl5",
        "outputId": "269d3ae1-1777-4539-d3fa-b2a8985eefee"
      },
      "source": [
        "df.describe(include='all')"
      ],
      "execution_count": null,
      "outputs": [
        {
          "output_type": "execute_result",
          "data": {
            "text/html": [
              "<div>\n",
              "<style scoped>\n",
              "    .dataframe tbody tr th:only-of-type {\n",
              "        vertical-align: middle;\n",
              "    }\n",
              "\n",
              "    .dataframe tbody tr th {\n",
              "        vertical-align: top;\n",
              "    }\n",
              "\n",
              "    .dataframe thead th {\n",
              "        text-align: right;\n",
              "    }\n",
              "</style>\n",
              "<table border=\"1\" class=\"dataframe\">\n",
              "  <thead>\n",
              "    <tr style=\"text-align: right;\">\n",
              "      <th></th>\n",
              "      <th>satisfaction_level</th>\n",
              "      <th>last_evaluation</th>\n",
              "      <th>number_project</th>\n",
              "      <th>average_montly_hours</th>\n",
              "      <th>time_spend_company</th>\n",
              "      <th>Work_accident</th>\n",
              "      <th>left</th>\n",
              "      <th>promotion_last_5years</th>\n",
              "      <th>department</th>\n",
              "      <th>salary</th>\n",
              "    </tr>\n",
              "  </thead>\n",
              "  <tbody>\n",
              "    <tr>\n",
              "      <th>count</th>\n",
              "      <td>14999.000000</td>\n",
              "      <td>14999.000000</td>\n",
              "      <td>14999.000000</td>\n",
              "      <td>14999.000000</td>\n",
              "      <td>14999.000000</td>\n",
              "      <td>14999.000000</td>\n",
              "      <td>14999.000000</td>\n",
              "      <td>14999.000000</td>\n",
              "      <td>14999</td>\n",
              "      <td>14999</td>\n",
              "    </tr>\n",
              "    <tr>\n",
              "      <th>unique</th>\n",
              "      <td>NaN</td>\n",
              "      <td>NaN</td>\n",
              "      <td>NaN</td>\n",
              "      <td>NaN</td>\n",
              "      <td>NaN</td>\n",
              "      <td>NaN</td>\n",
              "      <td>NaN</td>\n",
              "      <td>NaN</td>\n",
              "      <td>10</td>\n",
              "      <td>3</td>\n",
              "    </tr>\n",
              "    <tr>\n",
              "      <th>top</th>\n",
              "      <td>NaN</td>\n",
              "      <td>NaN</td>\n",
              "      <td>NaN</td>\n",
              "      <td>NaN</td>\n",
              "      <td>NaN</td>\n",
              "      <td>NaN</td>\n",
              "      <td>NaN</td>\n",
              "      <td>NaN</td>\n",
              "      <td>sales</td>\n",
              "      <td>low</td>\n",
              "    </tr>\n",
              "    <tr>\n",
              "      <th>freq</th>\n",
              "      <td>NaN</td>\n",
              "      <td>NaN</td>\n",
              "      <td>NaN</td>\n",
              "      <td>NaN</td>\n",
              "      <td>NaN</td>\n",
              "      <td>NaN</td>\n",
              "      <td>NaN</td>\n",
              "      <td>NaN</td>\n",
              "      <td>4140</td>\n",
              "      <td>7316</td>\n",
              "    </tr>\n",
              "    <tr>\n",
              "      <th>mean</th>\n",
              "      <td>0.612834</td>\n",
              "      <td>0.716102</td>\n",
              "      <td>3.803054</td>\n",
              "      <td>201.050337</td>\n",
              "      <td>3.498233</td>\n",
              "      <td>0.144610</td>\n",
              "      <td>0.238083</td>\n",
              "      <td>0.021268</td>\n",
              "      <td>NaN</td>\n",
              "      <td>NaN</td>\n",
              "    </tr>\n",
              "    <tr>\n",
              "      <th>std</th>\n",
              "      <td>0.248631</td>\n",
              "      <td>0.171169</td>\n",
              "      <td>1.232592</td>\n",
              "      <td>49.943099</td>\n",
              "      <td>1.460136</td>\n",
              "      <td>0.351719</td>\n",
              "      <td>0.425924</td>\n",
              "      <td>0.144281</td>\n",
              "      <td>NaN</td>\n",
              "      <td>NaN</td>\n",
              "    </tr>\n",
              "    <tr>\n",
              "      <th>min</th>\n",
              "      <td>0.090000</td>\n",
              "      <td>0.360000</td>\n",
              "      <td>2.000000</td>\n",
              "      <td>96.000000</td>\n",
              "      <td>2.000000</td>\n",
              "      <td>0.000000</td>\n",
              "      <td>0.000000</td>\n",
              "      <td>0.000000</td>\n",
              "      <td>NaN</td>\n",
              "      <td>NaN</td>\n",
              "    </tr>\n",
              "    <tr>\n",
              "      <th>25%</th>\n",
              "      <td>0.440000</td>\n",
              "      <td>0.560000</td>\n",
              "      <td>3.000000</td>\n",
              "      <td>156.000000</td>\n",
              "      <td>3.000000</td>\n",
              "      <td>0.000000</td>\n",
              "      <td>0.000000</td>\n",
              "      <td>0.000000</td>\n",
              "      <td>NaN</td>\n",
              "      <td>NaN</td>\n",
              "    </tr>\n",
              "    <tr>\n",
              "      <th>50%</th>\n",
              "      <td>0.640000</td>\n",
              "      <td>0.720000</td>\n",
              "      <td>4.000000</td>\n",
              "      <td>200.000000</td>\n",
              "      <td>3.000000</td>\n",
              "      <td>0.000000</td>\n",
              "      <td>0.000000</td>\n",
              "      <td>0.000000</td>\n",
              "      <td>NaN</td>\n",
              "      <td>NaN</td>\n",
              "    </tr>\n",
              "    <tr>\n",
              "      <th>75%</th>\n",
              "      <td>0.820000</td>\n",
              "      <td>0.870000</td>\n",
              "      <td>5.000000</td>\n",
              "      <td>245.000000</td>\n",
              "      <td>4.000000</td>\n",
              "      <td>0.000000</td>\n",
              "      <td>0.000000</td>\n",
              "      <td>0.000000</td>\n",
              "      <td>NaN</td>\n",
              "      <td>NaN</td>\n",
              "    </tr>\n",
              "    <tr>\n",
              "      <th>max</th>\n",
              "      <td>1.000000</td>\n",
              "      <td>1.000000</td>\n",
              "      <td>7.000000</td>\n",
              "      <td>310.000000</td>\n",
              "      <td>10.000000</td>\n",
              "      <td>1.000000</td>\n",
              "      <td>1.000000</td>\n",
              "      <td>1.000000</td>\n",
              "      <td>NaN</td>\n",
              "      <td>NaN</td>\n",
              "    </tr>\n",
              "  </tbody>\n",
              "</table>\n",
              "</div>"
            ],
            "text/plain": [
              "        satisfaction_level  last_evaluation  ...  department  salary\n",
              "count         14999.000000     14999.000000  ...       14999   14999\n",
              "unique                 NaN              NaN  ...          10       3\n",
              "top                    NaN              NaN  ...       sales     low\n",
              "freq                   NaN              NaN  ...        4140    7316\n",
              "mean              0.612834         0.716102  ...         NaN     NaN\n",
              "std               0.248631         0.171169  ...         NaN     NaN\n",
              "min               0.090000         0.360000  ...         NaN     NaN\n",
              "25%               0.440000         0.560000  ...         NaN     NaN\n",
              "50%               0.640000         0.720000  ...         NaN     NaN\n",
              "75%               0.820000         0.870000  ...         NaN     NaN\n",
              "max               1.000000         1.000000  ...         NaN     NaN\n",
              "\n",
              "[11 rows x 10 columns]"
            ]
          },
          "metadata": {},
          "execution_count": 4
        }
      ]
    },
    {
      "cell_type": "code",
      "metadata": {
        "colab": {
          "base_uri": "https://localhost:8080/"
        },
        "id": "Slvw2X0iM-hH",
        "outputId": "d97ed9d5-e215-409a-905c-89b012386653"
      },
      "source": [
        "def show_column_stat(dataframe, column_name):\n",
        "  print(column_name + ':')\n",
        "  col = dataframe[column_name]\n",
        "  try:\n",
        "    min = col.min()\n",
        "    print('\\tmin:', min)\n",
        "  except:\n",
        "    pass\n",
        "  try:\n",
        "    max = col.max()  \n",
        "    print('\\tmax:', max)\n",
        "  except:\n",
        "    pass\n",
        "  try:\n",
        "    range = max - min\n",
        "    print('\\trange:', range)\n",
        "  except:\n",
        "    pass\n",
        "  try:\n",
        "    mean = col.mean()  \n",
        "    print('\\tmean:', mean)\n",
        "  except:\n",
        "    pass\n",
        "  try:\n",
        "    mode = col.mode()[0]\n",
        "    print('\\tmode:', mode)\n",
        "  except:\n",
        "    pass    \n",
        "  try:\n",
        "    median = col.median()\n",
        "    print('\\tmedian:', median)\n",
        "  except:\n",
        "    pass  \n",
        "  try:\n",
        "    std = col.std()\n",
        "    print('\\tstd:', std)\n",
        "  except:\n",
        "    pass   \n",
        "  try:\n",
        "    var = col.var()\n",
        "    print('\\tvar:', var)\n",
        "  except:\n",
        "    pass    \n",
        "  try:         \n",
        "    q1 = col.quantile(0.25)\n",
        "    q3 = col.quantile(0.75)\n",
        "    iqr = q3 - q1\n",
        "    lo_outlier = q1 - (1.5 * iqr) \n",
        "    hi_outlier = q3 + (1.5 * iqr)\n",
        "    print('\\tlo_outlier:', lo_outlier)\n",
        "    print('\\thi_outlier:', hi_outlier)\n",
        "  except:\n",
        "    pass   \n",
        "  try:\n",
        "    na_count = col.isna().sum()\n",
        "    print('\\tna_count:', na_count)\n",
        "  except:\n",
        "    pass       \n",
        "  print('')\n",
        "\n",
        "# для каждого столбца выводим статистические показатели\n",
        "for col in df.columns:\n",
        "  show_column_stat(df, col)"
      ],
      "execution_count": null,
      "outputs": [
        {
          "output_type": "stream",
          "name": "stdout",
          "text": [
            "satisfaction_level:\n",
            "\tmin: 0.09\n",
            "\tmax: 1.0\n",
            "\trange: 0.91\n",
            "\tmean: 0.6128335222348166\n",
            "\tmode: 0.1\n",
            "\tmedian: 0.64\n",
            "\tstd: 0.2486306510611418\n",
            "\tvar: 0.061817200647087255\n",
            "\tlo_outlier: -0.12999999999999995\n",
            "\thi_outlier: 1.39\n",
            "\tna_count: 0\n",
            "\n",
            "last_evaluation:\n",
            "\tmin: 0.36\n",
            "\tmax: 1.0\n",
            "\trange: 0.64\n",
            "\tmean: 0.7161017401159978\n",
            "\tmode: 0.55\n",
            "\tmedian: 0.72\n",
            "\tstd: 0.17116911062327592\n",
            "\tvar: 0.02929886443156327\n",
            "\tlo_outlier: 0.09500000000000014\n",
            "\thi_outlier: 1.335\n",
            "\tna_count: 0\n",
            "\n",
            "number_project:\n",
            "\tmin: 2\n",
            "\tmax: 7\n",
            "\trange: 5\n",
            "\tmean: 3.80305353690246\n",
            "\tmode: 4\n",
            "\tmedian: 4.0\n",
            "\tstd: 1.2325923553183857\n",
            "\tvar: 1.5192839143893255\n",
            "\tlo_outlier: 0.0\n",
            "\thi_outlier: 8.0\n",
            "\tna_count: 0\n",
            "\n",
            "average_montly_hours:\n",
            "\tmin: 96\n",
            "\tmax: 310\n",
            "\trange: 214\n",
            "\tmean: 201.0503366891126\n",
            "\tmode: 135\n",
            "\tmedian: 200.0\n",
            "\tstd: 49.943099371284305\n",
            "\tvar: 2494.313174809979\n",
            "\tlo_outlier: 22.5\n",
            "\thi_outlier: 378.5\n",
            "\tna_count: 0\n",
            "\n",
            "time_spend_company:\n",
            "\tmin: 2\n",
            "\tmax: 10\n",
            "\trange: 8\n",
            "\tmean: 3.498233215547703\n",
            "\tmode: 3\n",
            "\tmedian: 3.0\n",
            "\tstd: 1.4601362305354546\n",
            "\tvar: 2.1319978117222864\n",
            "\tlo_outlier: 1.5\n",
            "\thi_outlier: 5.5\n",
            "\tna_count: 0\n",
            "\n",
            "Work_accident:\n",
            "\tmin: 0\n",
            "\tmax: 1\n",
            "\trange: 1\n",
            "\tmean: 0.1446096406427095\n",
            "\tmode: 0\n",
            "\tmedian: 0.0\n",
            "\tstd: 0.3517185523801279\n",
            "\tvar: 0.12370594008837278\n",
            "\tlo_outlier: 0.0\n",
            "\thi_outlier: 0.0\n",
            "\tna_count: 0\n",
            "\n",
            "left:\n",
            "\tmin: 0\n",
            "\tmax: 1\n",
            "\trange: 1\n",
            "\tmean: 0.2380825388359224\n",
            "\tmode: 0\n",
            "\tmedian: 0.0\n",
            "\tstd: 0.425924099380363\n",
            "\tvar: 0.18141133843297336\n",
            "\tlo_outlier: 0.0\n",
            "\thi_outlier: 0.0\n",
            "\tna_count: 0\n",
            "\n",
            "promotion_last_5years:\n",
            "\tmin: 0\n",
            "\tmax: 1\n",
            "\trange: 1\n",
            "\tmean: 0.021268084538969265\n",
            "\tmode: 0\n",
            "\tmedian: 0.0\n",
            "\tstd: 0.1442814645785774\n",
            "\tvar: 0.02081714102093929\n",
            "\tlo_outlier: 0.0\n",
            "\thi_outlier: 0.0\n",
            "\tna_count: 0\n",
            "\n",
            "department:\n",
            "\tmin: IT\n",
            "\tmax: technical\n",
            "\tmode: sales\n",
            "\tna_count: 0\n",
            "\n",
            "salary:\n",
            "\tmin: high\n",
            "\tmax: medium\n",
            "\tmode: low\n",
            "\tna_count: 0\n",
            "\n"
          ]
        }
      ]
    },
    {
      "cell_type": "markdown",
      "metadata": {
        "id": "p3oYl9npB9Df"
      },
      "source": [
        "##Задание 3\n",
        "Рассчитайте и визуализировать корреляционную матрицу для количественных переменных. Определите две самые скоррелированные и две наименеескоррелированные переменные."
      ]
    },
    {
      "cell_type": "code",
      "metadata": {
        "id": "yJwByq_pCdov",
        "colab": {
          "base_uri": "https://localhost:8080/",
          "height": 297
        },
        "outputId": "f18ca153-8816-4c7c-d149-a0866480304f"
      },
      "source": [
        "df.corr(method='pearson')"
      ],
      "execution_count": null,
      "outputs": [
        {
          "output_type": "execute_result",
          "data": {
            "text/html": [
              "<div>\n",
              "<style scoped>\n",
              "    .dataframe tbody tr th:only-of-type {\n",
              "        vertical-align: middle;\n",
              "    }\n",
              "\n",
              "    .dataframe tbody tr th {\n",
              "        vertical-align: top;\n",
              "    }\n",
              "\n",
              "    .dataframe thead th {\n",
              "        text-align: right;\n",
              "    }\n",
              "</style>\n",
              "<table border=\"1\" class=\"dataframe\">\n",
              "  <thead>\n",
              "    <tr style=\"text-align: right;\">\n",
              "      <th></th>\n",
              "      <th>satisfaction_level</th>\n",
              "      <th>last_evaluation</th>\n",
              "      <th>number_project</th>\n",
              "      <th>average_montly_hours</th>\n",
              "      <th>time_spend_company</th>\n",
              "      <th>Work_accident</th>\n",
              "      <th>left</th>\n",
              "      <th>promotion_last_5years</th>\n",
              "    </tr>\n",
              "  </thead>\n",
              "  <tbody>\n",
              "    <tr>\n",
              "      <th>satisfaction_level</th>\n",
              "      <td>1.000000</td>\n",
              "      <td>0.105021</td>\n",
              "      <td>-0.142970</td>\n",
              "      <td>-0.020048</td>\n",
              "      <td>-0.100866</td>\n",
              "      <td>0.058697</td>\n",
              "      <td>-0.388375</td>\n",
              "      <td>0.025605</td>\n",
              "    </tr>\n",
              "    <tr>\n",
              "      <th>last_evaluation</th>\n",
              "      <td>0.105021</td>\n",
              "      <td>1.000000</td>\n",
              "      <td>0.349333</td>\n",
              "      <td>0.339742</td>\n",
              "      <td>0.131591</td>\n",
              "      <td>-0.007104</td>\n",
              "      <td>0.006567</td>\n",
              "      <td>-0.008684</td>\n",
              "    </tr>\n",
              "    <tr>\n",
              "      <th>number_project</th>\n",
              "      <td>-0.142970</td>\n",
              "      <td>0.349333</td>\n",
              "      <td>1.000000</td>\n",
              "      <td>0.417211</td>\n",
              "      <td>0.196786</td>\n",
              "      <td>-0.004741</td>\n",
              "      <td>0.023787</td>\n",
              "      <td>-0.006064</td>\n",
              "    </tr>\n",
              "    <tr>\n",
              "      <th>average_montly_hours</th>\n",
              "      <td>-0.020048</td>\n",
              "      <td>0.339742</td>\n",
              "      <td>0.417211</td>\n",
              "      <td>1.000000</td>\n",
              "      <td>0.127755</td>\n",
              "      <td>-0.010143</td>\n",
              "      <td>0.071287</td>\n",
              "      <td>-0.003544</td>\n",
              "    </tr>\n",
              "    <tr>\n",
              "      <th>time_spend_company</th>\n",
              "      <td>-0.100866</td>\n",
              "      <td>0.131591</td>\n",
              "      <td>0.196786</td>\n",
              "      <td>0.127755</td>\n",
              "      <td>1.000000</td>\n",
              "      <td>0.002120</td>\n",
              "      <td>0.144822</td>\n",
              "      <td>0.067433</td>\n",
              "    </tr>\n",
              "    <tr>\n",
              "      <th>Work_accident</th>\n",
              "      <td>0.058697</td>\n",
              "      <td>-0.007104</td>\n",
              "      <td>-0.004741</td>\n",
              "      <td>-0.010143</td>\n",
              "      <td>0.002120</td>\n",
              "      <td>1.000000</td>\n",
              "      <td>-0.154622</td>\n",
              "      <td>0.039245</td>\n",
              "    </tr>\n",
              "    <tr>\n",
              "      <th>left</th>\n",
              "      <td>-0.388375</td>\n",
              "      <td>0.006567</td>\n",
              "      <td>0.023787</td>\n",
              "      <td>0.071287</td>\n",
              "      <td>0.144822</td>\n",
              "      <td>-0.154622</td>\n",
              "      <td>1.000000</td>\n",
              "      <td>-0.061788</td>\n",
              "    </tr>\n",
              "    <tr>\n",
              "      <th>promotion_last_5years</th>\n",
              "      <td>0.025605</td>\n",
              "      <td>-0.008684</td>\n",
              "      <td>-0.006064</td>\n",
              "      <td>-0.003544</td>\n",
              "      <td>0.067433</td>\n",
              "      <td>0.039245</td>\n",
              "      <td>-0.061788</td>\n",
              "      <td>1.000000</td>\n",
              "    </tr>\n",
              "  </tbody>\n",
              "</table>\n",
              "</div>"
            ],
            "text/plain": [
              "                       satisfaction_level  ...  promotion_last_5years\n",
              "satisfaction_level               1.000000  ...               0.025605\n",
              "last_evaluation                  0.105021  ...              -0.008684\n",
              "number_project                  -0.142970  ...              -0.006064\n",
              "average_montly_hours            -0.020048  ...              -0.003544\n",
              "time_spend_company              -0.100866  ...               0.067433\n",
              "Work_accident                    0.058697  ...               0.039245\n",
              "left                            -0.388375  ...              -0.061788\n",
              "promotion_last_5years            0.025605  ...               1.000000\n",
              "\n",
              "[8 rows x 8 columns]"
            ]
          },
          "metadata": {},
          "execution_count": 6
        }
      ]
    },
    {
      "cell_type": "code",
      "metadata": {
        "colab": {
          "base_uri": "https://localhost:8080/",
          "height": 297
        },
        "id": "H80AKwX8GtZQ",
        "outputId": "b2a71534-9bf9-49bd-903b-9fb05a7b8a49"
      },
      "source": [
        "df.corr(method='spearman')"
      ],
      "execution_count": null,
      "outputs": [
        {
          "output_type": "execute_result",
          "data": {
            "text/html": [
              "<div>\n",
              "<style scoped>\n",
              "    .dataframe tbody tr th:only-of-type {\n",
              "        vertical-align: middle;\n",
              "    }\n",
              "\n",
              "    .dataframe tbody tr th {\n",
              "        vertical-align: top;\n",
              "    }\n",
              "\n",
              "    .dataframe thead th {\n",
              "        text-align: right;\n",
              "    }\n",
              "</style>\n",
              "<table border=\"1\" class=\"dataframe\">\n",
              "  <thead>\n",
              "    <tr style=\"text-align: right;\">\n",
              "      <th></th>\n",
              "      <th>satisfaction_level</th>\n",
              "      <th>last_evaluation</th>\n",
              "      <th>number_project</th>\n",
              "      <th>average_montly_hours</th>\n",
              "      <th>time_spend_company</th>\n",
              "      <th>Work_accident</th>\n",
              "      <th>left</th>\n",
              "      <th>promotion_last_5years</th>\n",
              "    </tr>\n",
              "  </thead>\n",
              "  <tbody>\n",
              "    <tr>\n",
              "      <th>satisfaction_level</th>\n",
              "      <td>1.000000</td>\n",
              "      <td>0.162407</td>\n",
              "      <td>0.005786</td>\n",
              "      <td>0.062000</td>\n",
              "      <td>-0.139428</td>\n",
              "      <td>0.056333</td>\n",
              "      <td>-0.365842</td>\n",
              "      <td>0.022306</td>\n",
              "    </tr>\n",
              "    <tr>\n",
              "      <th>last_evaluation</th>\n",
              "      <td>0.162407</td>\n",
              "      <td>1.000000</td>\n",
              "      <td>0.350399</td>\n",
              "      <td>0.342061</td>\n",
              "      <td>0.161154</td>\n",
              "      <td>-0.005767</td>\n",
              "      <td>-0.002440</td>\n",
              "      <td>-0.007167</td>\n",
              "    </tr>\n",
              "    <tr>\n",
              "      <th>number_project</th>\n",
              "      <td>0.005786</td>\n",
              "      <td>0.350399</td>\n",
              "      <td>1.000000</td>\n",
              "      <td>0.397855</td>\n",
              "      <td>0.251971</td>\n",
              "      <td>0.002328</td>\n",
              "      <td>-0.019544</td>\n",
              "      <td>-0.002960</td>\n",
              "    </tr>\n",
              "    <tr>\n",
              "      <th>average_montly_hours</th>\n",
              "      <td>0.062000</td>\n",
              "      <td>0.342061</td>\n",
              "      <td>0.397855</td>\n",
              "      <td>1.000000</td>\n",
              "      <td>0.168750</td>\n",
              "      <td>-0.006063</td>\n",
              "      <td>0.046455</td>\n",
              "      <td>-0.002951</td>\n",
              "    </tr>\n",
              "    <tr>\n",
              "      <th>time_spend_company</th>\n",
              "      <td>-0.139428</td>\n",
              "      <td>0.161154</td>\n",
              "      <td>0.251971</td>\n",
              "      <td>0.168750</td>\n",
              "      <td>1.000000</td>\n",
              "      <td>-0.027277</td>\n",
              "      <td>0.268876</td>\n",
              "      <td>0.035205</td>\n",
              "    </tr>\n",
              "    <tr>\n",
              "      <th>Work_accident</th>\n",
              "      <td>0.056333</td>\n",
              "      <td>-0.005767</td>\n",
              "      <td>0.002328</td>\n",
              "      <td>-0.006063</td>\n",
              "      <td>-0.027277</td>\n",
              "      <td>1.000000</td>\n",
              "      <td>-0.154622</td>\n",
              "      <td>0.039245</td>\n",
              "    </tr>\n",
              "    <tr>\n",
              "      <th>left</th>\n",
              "      <td>-0.365842</td>\n",
              "      <td>-0.002440</td>\n",
              "      <td>-0.019544</td>\n",
              "      <td>0.046455</td>\n",
              "      <td>0.268876</td>\n",
              "      <td>-0.154622</td>\n",
              "      <td>1.000000</td>\n",
              "      <td>-0.061788</td>\n",
              "    </tr>\n",
              "    <tr>\n",
              "      <th>promotion_last_5years</th>\n",
              "      <td>0.022306</td>\n",
              "      <td>-0.007167</td>\n",
              "      <td>-0.002960</td>\n",
              "      <td>-0.002951</td>\n",
              "      <td>0.035205</td>\n",
              "      <td>0.039245</td>\n",
              "      <td>-0.061788</td>\n",
              "      <td>1.000000</td>\n",
              "    </tr>\n",
              "  </tbody>\n",
              "</table>\n",
              "</div>"
            ],
            "text/plain": [
              "                       satisfaction_level  ...  promotion_last_5years\n",
              "satisfaction_level               1.000000  ...               0.022306\n",
              "last_evaluation                  0.162407  ...              -0.007167\n",
              "number_project                   0.005786  ...              -0.002960\n",
              "average_montly_hours             0.062000  ...              -0.002951\n",
              "time_spend_company              -0.139428  ...               0.035205\n",
              "Work_accident                    0.056333  ...               0.039245\n",
              "left                            -0.365842  ...              -0.061788\n",
              "promotion_last_5years            0.022306  ...               1.000000\n",
              "\n",
              "[8 rows x 8 columns]"
            ]
          },
          "metadata": {},
          "execution_count": 5
        }
      ]
    },
    {
      "cell_type": "code",
      "metadata": {
        "colab": {
          "base_uri": "https://localhost:8080/",
          "height": 297
        },
        "id": "yPUHuXYtcVJq",
        "outputId": "25061c59-0ad1-4b99-adfa-82eb41cea268"
      },
      "source": [
        "df.corr(method='kendall')"
      ],
      "execution_count": null,
      "outputs": [
        {
          "output_type": "execute_result",
          "data": {
            "text/html": [
              "<div>\n",
              "<style scoped>\n",
              "    .dataframe tbody tr th:only-of-type {\n",
              "        vertical-align: middle;\n",
              "    }\n",
              "\n",
              "    .dataframe tbody tr th {\n",
              "        vertical-align: top;\n",
              "    }\n",
              "\n",
              "    .dataframe thead th {\n",
              "        text-align: right;\n",
              "    }\n",
              "</style>\n",
              "<table border=\"1\" class=\"dataframe\">\n",
              "  <thead>\n",
              "    <tr style=\"text-align: right;\">\n",
              "      <th></th>\n",
              "      <th>satisfaction_level</th>\n",
              "      <th>last_evaluation</th>\n",
              "      <th>number_project</th>\n",
              "      <th>average_montly_hours</th>\n",
              "      <th>time_spend_company</th>\n",
              "      <th>Work_accident</th>\n",
              "      <th>left</th>\n",
              "      <th>promotion_last_5years</th>\n",
              "    </tr>\n",
              "  </thead>\n",
              "  <tbody>\n",
              "    <tr>\n",
              "      <th>satisfaction_level</th>\n",
              "      <td>1.000000</td>\n",
              "      <td>0.113865</td>\n",
              "      <td>0.022077</td>\n",
              "      <td>0.051126</td>\n",
              "      <td>-0.110005</td>\n",
              "      <td>0.046298</td>\n",
              "      <td>-0.300675</td>\n",
              "      <td>0.018332</td>\n",
              "    </tr>\n",
              "    <tr>\n",
              "      <th>last_evaluation</th>\n",
              "      <td>0.113865</td>\n",
              "      <td>1.000000</td>\n",
              "      <td>0.266267</td>\n",
              "      <td>0.235374</td>\n",
              "      <td>0.118842</td>\n",
              "      <td>-0.004749</td>\n",
              "      <td>-0.002010</td>\n",
              "      <td>-0.005903</td>\n",
              "    </tr>\n",
              "    <tr>\n",
              "      <th>number_project</th>\n",
              "      <td>0.022077</td>\n",
              "      <td>0.266267</td>\n",
              "      <td>1.000000</td>\n",
              "      <td>0.306987</td>\n",
              "      <td>0.195025</td>\n",
              "      <td>0.002096</td>\n",
              "      <td>-0.017601</td>\n",
              "      <td>-0.002666</td>\n",
              "    </tr>\n",
              "    <tr>\n",
              "      <th>average_montly_hours</th>\n",
              "      <td>0.051126</td>\n",
              "      <td>0.235374</td>\n",
              "      <td>0.306987</td>\n",
              "      <td>1.000000</td>\n",
              "      <td>0.119466</td>\n",
              "      <td>-0.004966</td>\n",
              "      <td>0.038045</td>\n",
              "      <td>-0.002417</td>\n",
              "    </tr>\n",
              "    <tr>\n",
              "      <th>time_spend_company</th>\n",
              "      <td>-0.110005</td>\n",
              "      <td>0.118842</td>\n",
              "      <td>0.195025</td>\n",
              "      <td>0.119466</td>\n",
              "      <td>1.000000</td>\n",
              "      <td>-0.024839</td>\n",
              "      <td>0.244851</td>\n",
              "      <td>0.032059</td>\n",
              "    </tr>\n",
              "    <tr>\n",
              "      <th>Work_accident</th>\n",
              "      <td>0.046298</td>\n",
              "      <td>-0.004749</td>\n",
              "      <td>0.002096</td>\n",
              "      <td>-0.004966</td>\n",
              "      <td>-0.024839</td>\n",
              "      <td>1.000000</td>\n",
              "      <td>-0.154622</td>\n",
              "      <td>0.039245</td>\n",
              "    </tr>\n",
              "    <tr>\n",
              "      <th>left</th>\n",
              "      <td>-0.300675</td>\n",
              "      <td>-0.002010</td>\n",
              "      <td>-0.017601</td>\n",
              "      <td>0.038045</td>\n",
              "      <td>0.244851</td>\n",
              "      <td>-0.154622</td>\n",
              "      <td>1.000000</td>\n",
              "      <td>-0.061788</td>\n",
              "    </tr>\n",
              "    <tr>\n",
              "      <th>promotion_last_5years</th>\n",
              "      <td>0.018332</td>\n",
              "      <td>-0.005903</td>\n",
              "      <td>-0.002666</td>\n",
              "      <td>-0.002417</td>\n",
              "      <td>0.032059</td>\n",
              "      <td>0.039245</td>\n",
              "      <td>-0.061788</td>\n",
              "      <td>1.000000</td>\n",
              "    </tr>\n",
              "  </tbody>\n",
              "</table>\n",
              "</div>"
            ],
            "text/plain": [
              "                       satisfaction_level  ...  promotion_last_5years\n",
              "satisfaction_level               1.000000  ...               0.018332\n",
              "last_evaluation                  0.113865  ...              -0.005903\n",
              "number_project                   0.022077  ...              -0.002666\n",
              "average_montly_hours             0.051126  ...              -0.002417\n",
              "time_spend_company              -0.110005  ...               0.032059\n",
              "Work_accident                    0.046298  ...               0.039245\n",
              "left                            -0.300675  ...              -0.061788\n",
              "promotion_last_5years            0.018332  ...               1.000000\n",
              "\n",
              "[8 rows x 8 columns]"
            ]
          },
          "metadata": {},
          "execution_count": 8
        }
      ]
    },
    {
      "cell_type": "code",
      "metadata": {
        "colab": {
          "base_uri": "https://localhost:8080/",
          "height": 390
        },
        "id": "eMQlYOFemMMW",
        "outputId": "681e7313-9309-4de3-e61e-247683da6ceb"
      },
      "source": [
        "# тепловая карта корреляции\n",
        "sns.heatmap(df.corr())"
      ],
      "execution_count": null,
      "outputs": [
        {
          "output_type": "execute_result",
          "data": {
            "text/plain": [
              "<matplotlib.axes._subplots.AxesSubplot at 0x7faa21aae610>"
            ]
          },
          "metadata": {},
          "execution_count": 6
        },
        {
          "output_type": "display_data",
          "data": {
            "image/png": "[encoded data removed]",
            "text/plain": [
              "<Figure size 432x288 with 2 Axes>"
            ]
          },
          "metadata": {
            "needs_background": "light"
          }
        }
      ]
    },
    {
      "cell_type": "code",
      "metadata": {
        "colab": {
          "base_uri": "https://localhost:8080/",
          "height": 392
        },
        "id": "mRPZdYi1FKf1",
        "outputId": "07e21a4e-bbf2-4296-a018-e772e32e00b1"
      },
      "source": [
        "# две самые скоррелированные переменные\n",
        "sns.pairplot(df[['average_montly_hours', 'number_project']])"
      ],
      "execution_count": null,
      "outputs": [
        {
          "output_type": "execute_result",
          "data": {
            "text/plain": [
              "<seaborn.axisgrid.PairGrid at 0x7fe199879890>"
            ]
          },
          "metadata": {},
          "execution_count": 9
        },
        {
          "output_type": "display_data",
          "data": {
            "image/png": "[encoded data removed]",
            "text/plain": [
              "<Figure size 360x360 with 6 Axes>"
            ]
          },
          "metadata": {
            "needs_background": "light"
          }
        }
      ]
    },
    {
      "cell_type": "code",
      "metadata": {
        "colab": {
          "base_uri": "https://localhost:8080/",
          "height": 392
        },
        "id": "jO1-k7OWFWIP",
        "outputId": "d7769e62-1654-4ab0-b601-6d8b986bf656"
      },
      "source": [
        "#две самые наименеескоррелированные переменные\n",
        "sns.pairplot(df[['left', 'satisfaction_level']])"
      ],
      "execution_count": null,
      "outputs": [
        {
          "output_type": "execute_result",
          "data": {
            "text/plain": [
              "<seaborn.axisgrid.PairGrid at 0x7fe199736490>"
            ]
          },
          "metadata": {},
          "execution_count": 10
        },
        {
          "output_type": "display_data",
          "data": {
            "image/png": "[encoded data removed]",
            "text/plain": [
              "<Figure size 360x360 with 6 Axes>"
            ]
          },
          "metadata": {
            "needs_background": "light"
          }
        }
      ]
    },
    {
      "cell_type": "markdown",
      "metadata": {
        "id": "GrKoke4_IDdu"
      },
      "source": [
        "##Задание 4\n",
        "Рассчитайте сколько сотрудников работает в каждом департаменте."
      ]
    },
    {
      "cell_type": "code",
      "metadata": {
        "colab": {
          "base_uri": "https://localhost:8080/"
        },
        "id": "9Ba1axHPqGHq",
        "outputId": "bfdd083d-34b7-4a89-f215-b3019364db31"
      },
      "source": [
        "# с учётом уволенных\n",
        "df.value_counts(subset=['department']) "
      ],
      "execution_count": null,
      "outputs": [
        {
          "output_type": "execute_result",
          "data": {
            "text/plain": [
              "department \n",
              "sales          4140\n",
              "technical      2720\n",
              "support        2229\n",
              "IT             1227\n",
              "product_mng     902\n",
              "marketing       858\n",
              "RandD           787\n",
              "accounting      767\n",
              "hr              739\n",
              "management      630\n",
              "dtype: int64"
            ]
          },
          "metadata": {},
          "execution_count": 11
        }
      ]
    },
    {
      "cell_type": "code",
      "metadata": {
        "colab": {
          "base_uri": "https://localhost:8080/"
        },
        "id": "5o6B1XX0rM1p",
        "outputId": "05fb7338-6706-4085-fb06-93b41e333c16"
      },
      "source": [
        "# только действующие\n",
        "df_current.value_counts(subset=['department']) "
      ],
      "execution_count": null,
      "outputs": [
        {
          "output_type": "execute_result",
          "data": {
            "text/plain": [
              "department \n",
              "sales          3126\n",
              "technical      2023\n",
              "support        1674\n",
              "IT              954\n",
              "product_mng     704\n",
              "RandD           666\n",
              "marketing       655\n",
              "accounting      563\n",
              "management      539\n",
              "hr              524\n",
              "dtype: int64"
            ]
          },
          "metadata": {},
          "execution_count": 12
        }
      ]
    },
    {
      "cell_type": "code",
      "metadata": {
        "colab": {
          "base_uri": "https://localhost:8080/",
          "height": 381
        },
        "id": "kJuY5vN7kULM",
        "outputId": "bd2e29f8-4325-4741-d8ec-a196f74c4c9b"
      },
      "source": [
        "df_current.value_counts(subset=['department']) .plot(kind='bar', title='Количество действующих сотрудников в отделах')"
      ],
      "execution_count": null,
      "outputs": [
        {
          "output_type": "execute_result",
          "data": {
            "text/plain": [
              "<matplotlib.axes._subplots.AxesSubplot at 0x7fe190627b50>"
            ]
          },
          "metadata": {},
          "execution_count": 13
        },
        {
          "output_type": "display_data",
          "data": {
            "image/png": "[encoded data removed]",
            "text/plain": [
              "<Figure size 432x288 with 1 Axes>"
            ]
          },
          "metadata": {
            "needs_background": "light"
          }
        }
      ]
    },
    {
      "cell_type": "markdown",
      "metadata": {
        "id": "Iwjzglrwrf_2"
      },
      "source": [
        "## Задание 5\n",
        "Показать распределение сотрудников по зарплатам."
      ]
    },
    {
      "cell_type": "code",
      "metadata": {
        "colab": {
          "base_uri": "https://localhost:8080/",
          "height": 204
        },
        "id": "MNTI1F-AoftC",
        "outputId": "94c7f142-1cb0-4738-f276-c79bb0adb0af"
      },
      "source": [
        "def get_num(salary):\n",
        "  result = 0\n",
        "  if salary == 'medium':\n",
        "    result = 1\n",
        "  elif  salary == 'high':\n",
        "    result = 2\n",
        "  return result \n",
        "\n",
        "def is_that_salary(salary, that_salary):\n",
        "  result = 0\n",
        "  if salary == that_salary:\n",
        "    result = 1\n",
        "  return result   \n",
        "\n",
        "# добавляю вычисленные значения для упрощения построения графиков\n",
        "df['numeric_salary'] = df['salary'].apply(get_num)\n",
        "df['low_salary'] = df['salary'].apply(is_that_salary, that_salary = 'low')\n",
        "df['medium_salary'] = df['salary'].apply(is_that_salary, that_salary = 'medium')\n",
        "df['high_salary'] = df['salary'].apply(is_that_salary, that_salary = 'high')\n",
        "df.head()"
      ],
      "execution_count": null,
      "outputs": [
        {
          "output_type": "execute_result",
          "data": {
            "text/html": [
              "<div>\n",
              "<style scoped>\n",
              "    .dataframe tbody tr th:only-of-type {\n",
              "        vertical-align: middle;\n",
              "    }\n",
              "\n",
              "    .dataframe tbody tr th {\n",
              "        vertical-align: top;\n",
              "    }\n",
              "\n",
              "    .dataframe thead th {\n",
              "        text-align: right;\n",
              "    }\n",
              "</style>\n",
              "<table border=\"1\" class=\"dataframe\">\n",
              "  <thead>\n",
              "    <tr style=\"text-align: right;\">\n",
              "      <th></th>\n",
              "      <th>satisfaction_level</th>\n",
              "      <th>last_evaluation</th>\n",
              "      <th>number_project</th>\n",
              "      <th>average_montly_hours</th>\n",
              "      <th>time_spend_company</th>\n",
              "      <th>Work_accident</th>\n",
              "      <th>left</th>\n",
              "      <th>promotion_last_5years</th>\n",
              "      <th>department</th>\n",
              "      <th>salary</th>\n",
              "      <th>numeric_salary</th>\n",
              "      <th>low_salary</th>\n",
              "      <th>medium_salary</th>\n",
              "      <th>high_salary</th>\n",
              "    </tr>\n",
              "  </thead>\n",
              "  <tbody>\n",
              "    <tr>\n",
              "      <th>0</th>\n",
              "      <td>0.38</td>\n",
              "      <td>0.53</td>\n",
              "      <td>2</td>\n",
              "      <td>157</td>\n",
              "      <td>3</td>\n",
              "      <td>0</td>\n",
              "      <td>1</td>\n",
              "      <td>0</td>\n",
              "      <td>sales</td>\n",
              "      <td>low</td>\n",
              "      <td>0</td>\n",
              "      <td>1</td>\n",
              "      <td>0</td>\n",
              "      <td>0</td>\n",
              "    </tr>\n",
              "    <tr>\n",
              "      <th>1</th>\n",
              "      <td>0.80</td>\n",
              "      <td>0.86</td>\n",
              "      <td>5</td>\n",
              "      <td>262</td>\n",
              "      <td>6</td>\n",
              "      <td>0</td>\n",
              "      <td>1</td>\n",
              "      <td>0</td>\n",
              "      <td>sales</td>\n",
              "      <td>medium</td>\n",
              "      <td>1</td>\n",
              "      <td>0</td>\n",
              "      <td>1</td>\n",
              "      <td>0</td>\n",
              "    </tr>\n",
              "    <tr>\n",
              "      <th>2</th>\n",
              "      <td>0.11</td>\n",
              "      <td>0.88</td>\n",
              "      <td>7</td>\n",
              "      <td>272</td>\n",
              "      <td>4</td>\n",
              "      <td>0</td>\n",
              "      <td>1</td>\n",
              "      <td>0</td>\n",
              "      <td>sales</td>\n",
              "      <td>medium</td>\n",
              "      <td>1</td>\n",
              "      <td>0</td>\n",
              "      <td>1</td>\n",
              "      <td>0</td>\n",
              "    </tr>\n",
              "    <tr>\n",
              "      <th>3</th>\n",
              "      <td>0.72</td>\n",
              "      <td>0.87</td>\n",
              "      <td>5</td>\n",
              "      <td>223</td>\n",
              "      <td>5</td>\n",
              "      <td>0</td>\n",
              "      <td>1</td>\n",
              "      <td>0</td>\n",
              "      <td>sales</td>\n",
              "      <td>low</td>\n",
              "      <td>0</td>\n",
              "      <td>1</td>\n",
              "      <td>0</td>\n",
              "      <td>0</td>\n",
              "    </tr>\n",
              "    <tr>\n",
              "      <th>4</th>\n",
              "      <td>0.37</td>\n",
              "      <td>0.52</td>\n",
              "      <td>2</td>\n",
              "      <td>159</td>\n",
              "      <td>3</td>\n",
              "      <td>0</td>\n",
              "      <td>1</td>\n",
              "      <td>0</td>\n",
              "      <td>sales</td>\n",
              "      <td>low</td>\n",
              "      <td>0</td>\n",
              "      <td>1</td>\n",
              "      <td>0</td>\n",
              "      <td>0</td>\n",
              "    </tr>\n",
              "  </tbody>\n",
              "</table>\n",
              "</div>"
            ],
            "text/plain": [
              "   satisfaction_level  last_evaluation  ...  medium_salary  high_salary\n",
              "0                0.38             0.53  ...              0            0\n",
              "1                0.80             0.86  ...              1            0\n",
              "2                0.11             0.88  ...              1            0\n",
              "3                0.72             0.87  ...              0            0\n",
              "4                0.37             0.52  ...              0            0\n",
              "\n",
              "[5 rows x 14 columns]"
            ]
          },
          "metadata": {},
          "execution_count": 14
        }
      ]
    },
    {
      "cell_type": "code",
      "metadata": {
        "id": "vNvPVAPRrqSf",
        "colab": {
          "base_uri": "https://localhost:8080/",
          "height": 365
        },
        "outputId": "4a99277e-a7fd-4eb8-98d6-68d727927190"
      },
      "source": [
        "df[['low_salary', 'medium_salary', 'high_salary']].sum().plot(kind='bar', title='Распределение по зарплатам')"
      ],
      "execution_count": null,
      "outputs": [
        {
          "output_type": "execute_result",
          "data": {
            "text/plain": [
              "<matplotlib.axes._subplots.AxesSubplot at 0x7f5cc32c8290>"
            ]
          },
          "metadata": {},
          "execution_count": 16
        },
        {
          "output_type": "display_data",
          "data": {
            "image/png": "[encoded data removed]",
            "text/plain": [
              "<Figure size 432x288 with 1 Axes>"
            ]
          },
          "metadata": {
            "needs_background": "light"
          }
        }
      ]
    },
    {
      "cell_type": "code",
      "metadata": {
        "colab": {
          "base_uri": "https://localhost:8080/",
          "height": 282
        },
        "id": "nqYJHYJhSfYH",
        "outputId": "f90e2406-707d-4e0b-ea4f-55553f906609"
      },
      "source": [
        "pie_data = df['salary'].value_counts()\n",
        "pie_data.plot(kind='pie', title='Распределение по зарплатам')"
      ],
      "execution_count": null,
      "outputs": [
        {
          "output_type": "execute_result",
          "data": {
            "text/plain": [
              "<matplotlib.axes._subplots.AxesSubplot at 0x7fe19059e810>"
            ]
          },
          "metadata": {},
          "execution_count": 15
        },
        {
          "output_type": "display_data",
          "data": {
            "image/png": "[encoded data removed]",
            "text/plain": [
              "<Figure size 432x288 with 1 Axes>"
            ]
          },
          "metadata": {}
        }
      ]
    },
    {
      "cell_type": "markdown",
      "metadata": {
        "id": "9TAIRtdWtf1R"
      },
      "source": [
        "## Задание 6\n",
        "Показать распределение сотрудников по зарплатам в каждом департаменте по отдельности"
      ]
    },
    {
      "cell_type": "code",
      "metadata": {
        "id": "WVpRHswltaFf",
        "colab": {
          "base_uri": "https://localhost:8080/",
          "height": 390
        },
        "outputId": "dc59220a-88ef-4a7c-90c7-56fb241bdd62"
      },
      "source": [
        "df_group_dept = df[['department', 'low_salary', 'medium_salary', 'high_salary']].groupby('department').sum()\n",
        "df_group_dept"
      ],
      "execution_count": null,
      "outputs": [
        {
          "output_type": "execute_result",
          "data": {
            "text/html": [
              "<div>\n",
              "<style scoped>\n",
              "    .dataframe tbody tr th:only-of-type {\n",
              "        vertical-align: middle;\n",
              "    }\n",
              "\n",
              "    .dataframe tbody tr th {\n",
              "        vertical-align: top;\n",
              "    }\n",
              "\n",
              "    .dataframe thead th {\n",
              "        text-align: right;\n",
              "    }\n",
              "</style>\n",
              "<table border=\"1\" class=\"dataframe\">\n",
              "  <thead>\n",
              "    <tr style=\"text-align: right;\">\n",
              "      <th></th>\n",
              "      <th>low_salary</th>\n",
              "      <th>medium_salary</th>\n",
              "      <th>high_salary</th>\n",
              "    </tr>\n",
              "    <tr>\n",
              "      <th>department</th>\n",
              "      <th></th>\n",
              "      <th></th>\n",
              "      <th></th>\n",
              "    </tr>\n",
              "  </thead>\n",
              "  <tbody>\n",
              "    <tr>\n",
              "      <th>IT</th>\n",
              "      <td>609</td>\n",
              "      <td>535</td>\n",
              "      <td>83</td>\n",
              "    </tr>\n",
              "    <tr>\n",
              "      <th>RandD</th>\n",
              "      <td>364</td>\n",
              "      <td>372</td>\n",
              "      <td>51</td>\n",
              "    </tr>\n",
              "    <tr>\n",
              "      <th>accounting</th>\n",
              "      <td>358</td>\n",
              "      <td>335</td>\n",
              "      <td>74</td>\n",
              "    </tr>\n",
              "    <tr>\n",
              "      <th>hr</th>\n",
              "      <td>335</td>\n",
              "      <td>359</td>\n",
              "      <td>45</td>\n",
              "    </tr>\n",
              "    <tr>\n",
              "      <th>management</th>\n",
              "      <td>180</td>\n",
              "      <td>225</td>\n",
              "      <td>225</td>\n",
              "    </tr>\n",
              "    <tr>\n",
              "      <th>marketing</th>\n",
              "      <td>402</td>\n",
              "      <td>376</td>\n",
              "      <td>80</td>\n",
              "    </tr>\n",
              "    <tr>\n",
              "      <th>product_mng</th>\n",
              "      <td>451</td>\n",
              "      <td>383</td>\n",
              "      <td>68</td>\n",
              "    </tr>\n",
              "    <tr>\n",
              "      <th>sales</th>\n",
              "      <td>2099</td>\n",
              "      <td>1772</td>\n",
              "      <td>269</td>\n",
              "    </tr>\n",
              "    <tr>\n",
              "      <th>support</th>\n",
              "      <td>1146</td>\n",
              "      <td>942</td>\n",
              "      <td>141</td>\n",
              "    </tr>\n",
              "    <tr>\n",
              "      <th>technical</th>\n",
              "      <td>1372</td>\n",
              "      <td>1147</td>\n",
              "      <td>201</td>\n",
              "    </tr>\n",
              "  </tbody>\n",
              "</table>\n",
              "</div>"
            ],
            "text/plain": [
              "             low_salary  medium_salary  high_salary\n",
              "department                                         \n",
              "IT                  609            535           83\n",
              "RandD               364            372           51\n",
              "accounting          358            335           74\n",
              "hr                  335            359           45\n",
              "management          180            225          225\n",
              "marketing           402            376           80\n",
              "product_mng         451            383           68\n",
              "sales              2099           1772          269\n",
              "support            1146            942          141\n",
              "technical          1372           1147          201"
            ]
          },
          "metadata": {},
          "execution_count": 16
        }
      ]
    },
    {
      "cell_type": "code",
      "metadata": {
        "colab": {
          "base_uri": "https://localhost:8080/",
          "height": 354
        },
        "id": "BBZdFqyaGDXc",
        "outputId": "35130e40-c580-4ef0-c19d-a7a3687f7779"
      },
      "source": [
        "df_group_dept.plot(kind='bar', stacked=True)"
      ],
      "execution_count": null,
      "outputs": [
        {
          "output_type": "execute_result",
          "data": {
            "text/plain": [
              "<matplotlib.axes._subplots.AxesSubplot at 0x7fe190509c10>"
            ]
          },
          "metadata": {},
          "execution_count": 17
        },
        {
          "output_type": "display_data",
          "data": {
            "image/png": "[encoded data removed]",
            "text/plain": [
              "<Figure size 432x288 with 1 Axes>"
            ]
          },
          "metadata": {
            "needs_background": "light"
          }
        }
      ]
    },
    {
      "cell_type": "markdown",
      "metadata": {
        "id": "usuC2_uJNcwP"
      },
      "source": [
        "Нормализуем, приводим к процентам"
      ]
    },
    {
      "cell_type": "code",
      "metadata": {
        "colab": {
          "base_uri": "https://localhost:8080/",
          "height": 390
        },
        "id": "LASwtFDvGEe9",
        "outputId": "e1fe39f8-cb5a-4b19-86e5-d8d94a16828d"
      },
      "source": [
        "def get_dept_salary_percent(row):\n",
        "    all = row['low_salary'] + row['medium_salary'] + row['high_salary']\n",
        "    row['low_salary_percent'] = (row['low_salary'] * 100) / all\n",
        "    row['medium_salary_percent'] = (row['medium_salary'] * 100) / all\n",
        "    row['high_salary_percent'] = (row['high_salary'] * 100) / all\n",
        "        \n",
        "    return row\n",
        "\n",
        "df_group_dept_percent = df_group_dept.apply(get_dept_salary_percent, axis=1)  \n",
        "df_group_dept_percent"
      ],
      "execution_count": null,
      "outputs": [
        {
          "output_type": "execute_result",
          "data": {
            "text/html": [
              "<div>\n",
              "<style scoped>\n",
              "    .dataframe tbody tr th:only-of-type {\n",
              "        vertical-align: middle;\n",
              "    }\n",
              "\n",
              "    .dataframe tbody tr th {\n",
              "        vertical-align: top;\n",
              "    }\n",
              "\n",
              "    .dataframe thead th {\n",
              "        text-align: right;\n",
              "    }\n",
              "</style>\n",
              "<table border=\"1\" class=\"dataframe\">\n",
              "  <thead>\n",
              "    <tr style=\"text-align: right;\">\n",
              "      <th></th>\n",
              "      <th>low_salary</th>\n",
              "      <th>medium_salary</th>\n",
              "      <th>high_salary</th>\n",
              "      <th>low_salary_percent</th>\n",
              "      <th>medium_salary_percent</th>\n",
              "      <th>high_salary_percent</th>\n",
              "    </tr>\n",
              "    <tr>\n",
              "      <th>department</th>\n",
              "      <th></th>\n",
              "      <th></th>\n",
              "      <th></th>\n",
              "      <th></th>\n",
              "      <th></th>\n",
              "      <th></th>\n",
              "    </tr>\n",
              "  </thead>\n",
              "  <tbody>\n",
              "    <tr>\n",
              "      <th>IT</th>\n",
              "      <td>609.0</td>\n",
              "      <td>535.0</td>\n",
              "      <td>83.0</td>\n",
              "      <td>49.633252</td>\n",
              "      <td>43.602282</td>\n",
              "      <td>6.764466</td>\n",
              "    </tr>\n",
              "    <tr>\n",
              "      <th>RandD</th>\n",
              "      <td>364.0</td>\n",
              "      <td>372.0</td>\n",
              "      <td>51.0</td>\n",
              "      <td>46.251588</td>\n",
              "      <td>47.268107</td>\n",
              "      <td>6.480305</td>\n",
              "    </tr>\n",
              "    <tr>\n",
              "      <th>accounting</th>\n",
              "      <td>358.0</td>\n",
              "      <td>335.0</td>\n",
              "      <td>74.0</td>\n",
              "      <td>46.675359</td>\n",
              "      <td>43.676662</td>\n",
              "      <td>9.647979</td>\n",
              "    </tr>\n",
              "    <tr>\n",
              "      <th>hr</th>\n",
              "      <td>335.0</td>\n",
              "      <td>359.0</td>\n",
              "      <td>45.0</td>\n",
              "      <td>45.331529</td>\n",
              "      <td>48.579161</td>\n",
              "      <td>6.089310</td>\n",
              "    </tr>\n",
              "    <tr>\n",
              "      <th>management</th>\n",
              "      <td>180.0</td>\n",
              "      <td>225.0</td>\n",
              "      <td>225.0</td>\n",
              "      <td>28.571429</td>\n",
              "      <td>35.714286</td>\n",
              "      <td>35.714286</td>\n",
              "    </tr>\n",
              "    <tr>\n",
              "      <th>marketing</th>\n",
              "      <td>402.0</td>\n",
              "      <td>376.0</td>\n",
              "      <td>80.0</td>\n",
              "      <td>46.853147</td>\n",
              "      <td>43.822844</td>\n",
              "      <td>9.324009</td>\n",
              "    </tr>\n",
              "    <tr>\n",
              "      <th>product_mng</th>\n",
              "      <td>451.0</td>\n",
              "      <td>383.0</td>\n",
              "      <td>68.0</td>\n",
              "      <td>50.000000</td>\n",
              "      <td>42.461197</td>\n",
              "      <td>7.538803</td>\n",
              "    </tr>\n",
              "    <tr>\n",
              "      <th>sales</th>\n",
              "      <td>2099.0</td>\n",
              "      <td>1772.0</td>\n",
              "      <td>269.0</td>\n",
              "      <td>50.700483</td>\n",
              "      <td>42.801932</td>\n",
              "      <td>6.497585</td>\n",
              "    </tr>\n",
              "    <tr>\n",
              "      <th>support</th>\n",
              "      <td>1146.0</td>\n",
              "      <td>942.0</td>\n",
              "      <td>141.0</td>\n",
              "      <td>51.413190</td>\n",
              "      <td>42.261104</td>\n",
              "      <td>6.325707</td>\n",
              "    </tr>\n",
              "    <tr>\n",
              "      <th>technical</th>\n",
              "      <td>1372.0</td>\n",
              "      <td>1147.0</td>\n",
              "      <td>201.0</td>\n",
              "      <td>50.441176</td>\n",
              "      <td>42.169118</td>\n",
              "      <td>7.389706</td>\n",
              "    </tr>\n",
              "  </tbody>\n",
              "</table>\n",
              "</div>"
            ],
            "text/plain": [
              "             low_salary  ...  high_salary_percent\n",
              "department               ...                     \n",
              "IT                609.0  ...             6.764466\n",
              "RandD             364.0  ...             6.480305\n",
              "accounting        358.0  ...             9.647979\n",
              "hr                335.0  ...             6.089310\n",
              "management        180.0  ...            35.714286\n",
              "marketing         402.0  ...             9.324009\n",
              "product_mng       451.0  ...             7.538803\n",
              "sales            2099.0  ...             6.497585\n",
              "support          1146.0  ...             6.325707\n",
              "technical        1372.0  ...             7.389706\n",
              "\n",
              "[10 rows x 6 columns]"
            ]
          },
          "metadata": {},
          "execution_count": 18
        }
      ]
    },
    {
      "cell_type": "code",
      "metadata": {
        "colab": {
          "base_uri": "https://localhost:8080/",
          "height": 353
        },
        "id": "x2Ak4iDxNC6A",
        "outputId": "d2a6d886-c15d-4e41-ad23-ef48eda08a43"
      },
      "source": [
        "df_group_dept_percent[['low_salary_percent', 'medium_salary_percent', 'high_salary_percent']].plot(kind='bar', stacked=True)"
      ],
      "execution_count": null,
      "outputs": [
        {
          "output_type": "execute_result",
          "data": {
            "text/plain": [
              "<matplotlib.axes._subplots.AxesSubplot at 0x7f5cc30f7d10>"
            ]
          },
          "metadata": {},
          "execution_count": 21
        },
        {
          "output_type": "display_data",
          "data": {
            "image/png": "[encoded data removed]",
            "text/plain": [
              "<Figure size 432x288 with 1 Axes>"
            ]
          },
          "metadata": {
            "needs_background": "light"
          }
        }
      ]
    },
    {
      "cell_type": "code",
      "metadata": {
        "colab": {
          "base_uri": "https://localhost:8080/",
          "height": 282
        },
        "id": "CIc0j5jvOESI",
        "outputId": "9f439f4b-f15b-4673-f24f-0147e8efca67"
      },
      "source": [
        "# чуть-чуть по-другому визуализируем\n",
        "df_group_dept_percent[['low_salary_percent', 'medium_salary_percent', 'high_salary_percent']].plot(kind='barh', legend=None)"
      ],
      "execution_count": null,
      "outputs": [
        {
          "output_type": "execute_result",
          "data": {
            "text/plain": [
              "<matplotlib.axes._subplots.AxesSubplot at 0x7f5cc3198510>"
            ]
          },
          "metadata": {},
          "execution_count": 22
        },
        {
          "output_type": "display_data",
          "data": {
            "image/png": "[encoded data removed]",
            "text/plain": [
              "<Figure size 432x288 with 1 Axes>"
            ]
          },
          "metadata": {
            "needs_background": "light"
          }
        }
      ]
    },
    {
      "cell_type": "markdown",
      "metadata": {
        "id": "-_IibpN7OLWD"
      },
      "source": [
        "В процентном соотношении в отделе менеджмента больше высокооплачиваемых сотрудников"
      ]
    },
    {
      "cell_type": "markdown",
      "metadata": {
        "id": "6OGWy1npt9xg"
      },
      "source": [
        "## Задание 7\n",
        "Проверить гипотезу, что сотрудники с высоким окладом проводят на работе больше времени, чем сотрудники с низким окладом"
      ]
    },
    {
      "cell_type": "code",
      "metadata": {
        "id": "AZIj1f8nuDtV",
        "colab": {
          "base_uri": "https://localhost:8080/",
          "height": 173
        },
        "outputId": "9896874a-7496-49b1-a99d-8f741eebc482"
      },
      "source": [
        "df_group_hours_mean = df[['average_montly_hours', 'salary']].groupby('salary').mean()\n",
        "df_group_hours_mean"
      ],
      "execution_count": null,
      "outputs": [
        {
          "output_type": "execute_result",
          "data": {
            "text/html": [
              "<div>\n",
              "<style scoped>\n",
              "    .dataframe tbody tr th:only-of-type {\n",
              "        vertical-align: middle;\n",
              "    }\n",
              "\n",
              "    .dataframe tbody tr th {\n",
              "        vertical-align: top;\n",
              "    }\n",
              "\n",
              "    .dataframe thead th {\n",
              "        text-align: right;\n",
              "    }\n",
              "</style>\n",
              "<table border=\"1\" class=\"dataframe\">\n",
              "  <thead>\n",
              "    <tr style=\"text-align: right;\">\n",
              "      <th></th>\n",
              "      <th>average_montly_hours</th>\n",
              "    </tr>\n",
              "    <tr>\n",
              "      <th>salary</th>\n",
              "      <th></th>\n",
              "    </tr>\n",
              "  </thead>\n",
              "  <tbody>\n",
              "    <tr>\n",
              "      <th>high</th>\n",
              "      <td>199.867421</td>\n",
              "    </tr>\n",
              "    <tr>\n",
              "      <th>low</th>\n",
              "      <td>200.996583</td>\n",
              "    </tr>\n",
              "    <tr>\n",
              "      <th>medium</th>\n",
              "      <td>201.338349</td>\n",
              "    </tr>\n",
              "  </tbody>\n",
              "</table>\n",
              "</div>"
            ],
            "text/plain": [
              "        average_montly_hours\n",
              "salary                      \n",
              "high              199.867421\n",
              "low               200.996583\n",
              "medium            201.338349"
            ]
          },
          "metadata": {},
          "execution_count": 19
        }
      ]
    },
    {
      "cell_type": "code",
      "metadata": {
        "colab": {
          "base_uri": "https://localhost:8080/",
          "height": 344
        },
        "id": "nVs2lLwELFfz",
        "outputId": "760a4cab-2106-4465-a01a-120002861e3c"
      },
      "source": [
        "df_group_hours_mean.reset_index().plot(kind='bar', x='salary', y='average_montly_hours', title='Средннее по часам и зарплатам')"
      ],
      "execution_count": null,
      "outputs": [
        {
          "output_type": "execute_result",
          "data": {
            "text/plain": [
              "<matplotlib.axes._subplots.AxesSubplot at 0x7fe190378dd0>"
            ]
          },
          "metadata": {},
          "execution_count": 24
        },
        {
          "output_type": "display_data",
          "data": {
            "image/png": "[encoded data removed]",
            "text/plain": [
              "<Figure size 432x288 with 1 Axes>"
            ]
          },
          "metadata": {
            "needs_background": "light"
          }
        }
      ]
    },
    {
      "cell_type": "code",
      "metadata": {
        "colab": {
          "base_uri": "https://localhost:8080/",
          "height": 173
        },
        "id": "WzW9RA0ciGp0",
        "outputId": "b911af85-8f0d-49ea-c08f-dc450f6020f3"
      },
      "source": [
        "df_group_hours_median = df[['average_montly_hours', 'salary']].groupby('salary').median()\n",
        "df_group_hours_median"
      ],
      "execution_count": null,
      "outputs": [
        {
          "output_type": "execute_result",
          "data": {
            "text/html": [
              "<div>\n",
              "<style scoped>\n",
              "    .dataframe tbody tr th:only-of-type {\n",
              "        vertical-align: middle;\n",
              "    }\n",
              "\n",
              "    .dataframe tbody tr th {\n",
              "        vertical-align: top;\n",
              "    }\n",
              "\n",
              "    .dataframe thead th {\n",
              "        text-align: right;\n",
              "    }\n",
              "</style>\n",
              "<table border=\"1\" class=\"dataframe\">\n",
              "  <thead>\n",
              "    <tr style=\"text-align: right;\">\n",
              "      <th></th>\n",
              "      <th>average_montly_hours</th>\n",
              "    </tr>\n",
              "    <tr>\n",
              "      <th>salary</th>\n",
              "      <th></th>\n",
              "    </tr>\n",
              "  </thead>\n",
              "  <tbody>\n",
              "    <tr>\n",
              "      <th>high</th>\n",
              "      <td>199</td>\n",
              "    </tr>\n",
              "    <tr>\n",
              "      <th>low</th>\n",
              "      <td>199</td>\n",
              "    </tr>\n",
              "    <tr>\n",
              "      <th>medium</th>\n",
              "      <td>201</td>\n",
              "    </tr>\n",
              "  </tbody>\n",
              "</table>\n",
              "</div>"
            ],
            "text/plain": [
              "        average_montly_hours\n",
              "salary                      \n",
              "high                     199\n",
              "low                      199\n",
              "medium                   201"
            ]
          },
          "metadata": {},
          "execution_count": 21
        }
      ]
    },
    {
      "cell_type": "code",
      "metadata": {
        "colab": {
          "base_uri": "https://localhost:8080/",
          "height": 344
        },
        "id": "ZD3o9YrSidwq",
        "outputId": "3d813dc3-ba8c-4c02-cec1-91071ff66330"
      },
      "source": [
        "df_group_hours_median.reset_index().plot(kind='bar', x='salary', y='average_montly_hours', title='Медиана по часам и зарплатам')"
      ],
      "execution_count": null,
      "outputs": [
        {
          "output_type": "execute_result",
          "data": {
            "text/plain": [
              "<matplotlib.axes._subplots.AxesSubplot at 0x7fe1902ebe10>"
            ]
          },
          "metadata": {},
          "execution_count": 25
        },
        {
          "output_type": "display_data",
          "data": {
            "image/png": "[encoded data removed]",
            "text/plain": [
              "<Figure size 432x288 with 1 Axes>"
            ]
          },
          "metadata": {
            "needs_background": "light"
          }
        }
      ]
    },
    {
      "cell_type": "code",
      "metadata": {
        "colab": {
          "base_uri": "https://localhost:8080/",
          "height": 111
        },
        "id": "Kpm86LMvjAmx",
        "outputId": "d894d9f5-f96d-4379-d297-81dcc664114b"
      },
      "source": [
        "df[['numeric_salary', 'average_montly_hours']].corr()"
      ],
      "execution_count": null,
      "outputs": [
        {
          "output_type": "execute_result",
          "data": {
            "text/html": [
              "<div>\n",
              "<style scoped>\n",
              "    .dataframe tbody tr th:only-of-type {\n",
              "        vertical-align: middle;\n",
              "    }\n",
              "\n",
              "    .dataframe tbody tr th {\n",
              "        vertical-align: top;\n",
              "    }\n",
              "\n",
              "    .dataframe thead th {\n",
              "        text-align: right;\n",
              "    }\n",
              "</style>\n",
              "<table border=\"1\" class=\"dataframe\">\n",
              "  <thead>\n",
              "    <tr style=\"text-align: right;\">\n",
              "      <th></th>\n",
              "      <th>numeric_salary</th>\n",
              "      <th>average_montly_hours</th>\n",
              "    </tr>\n",
              "  </thead>\n",
              "  <tbody>\n",
              "    <tr>\n",
              "      <th>numeric_salary</th>\n",
              "      <td>1.000000</td>\n",
              "      <td>-0.002242</td>\n",
              "    </tr>\n",
              "    <tr>\n",
              "      <th>average_montly_hours</th>\n",
              "      <td>-0.002242</td>\n",
              "      <td>1.000000</td>\n",
              "    </tr>\n",
              "  </tbody>\n",
              "</table>\n",
              "</div>"
            ],
            "text/plain": [
              "                      numeric_salary  average_montly_hours\n",
              "numeric_salary              1.000000             -0.002242\n",
              "average_montly_hours       -0.002242              1.000000"
            ]
          },
          "metadata": {},
          "execution_count": 26
        }
      ]
    },
    {
      "cell_type": "markdown",
      "metadata": {
        "id": "EqwmjL2Ejuy7"
      },
      "source": [
        "Гипотеза не подтверждается. Зарплата и проведённое на работе время особо не влияют друг на друга, кореляция не прпослеживается. Больше всего (но совсем не намного) работают люди со средней зарплатой. Люди с маленькой и высокой оплатой работают примерно одинаковое количество часов. "
      ]
    },
    {
      "cell_type": "markdown",
      "metadata": {
        "id": "8zezi5uluH9z"
      },
      "source": [
        "## Задание 8\n",
        "Рассчитать следующие показатели среди уволившихся и неуволившихся сотрудников (по отдельности):\n",
        "- Доля сотрудников с повышением за последние 5 лет\n",
        "- Средняя степень удовлетворенности\n",
        "- Среднее количество проектов"
      ]
    },
    {
      "cell_type": "code",
      "metadata": {
        "id": "uYnCKyWLwJOS",
        "colab": {
          "base_uri": "https://localhost:8080/"
        },
        "outputId": "4006ef6f-e7bd-4922-aa12-cc64ff1f8b50"
      },
      "source": [
        "df_dismissed_promotion = df_dismissed['promotion_last_5years'].value_counts()\n",
        "df_dismissed_promotion"
      ],
      "execution_count": null,
      "outputs": [
        {
          "output_type": "execute_result",
          "data": {
            "text/plain": [
              "0    3552\n",
              "1      19\n",
              "Name: promotion_last_5years, dtype: int64"
            ]
          },
          "metadata": {},
          "execution_count": 27
        }
      ]
    },
    {
      "cell_type": "code",
      "metadata": {
        "colab": {
          "base_uri": "https://localhost:8080/"
        },
        "id": "PoYM9R2FrkXf",
        "outputId": "3a24745a-07a7-4717-e9b8-19ef4bfe84fb"
      },
      "source": [
        "# доля сотрудников с повышением за последние 5 лет среди уволенных в процентах\n",
        "(df_dismissed_promotion[1] * 100) / len(df_dismissed['promotion_last_5years'])  "
      ],
      "execution_count": null,
      "outputs": [
        {
          "output_type": "execute_result",
          "data": {
            "text/plain": [
              "0.5320638476617194"
            ]
          },
          "metadata": {},
          "execution_count": 29
        }
      ]
    },
    {
      "cell_type": "code",
      "metadata": {
        "colab": {
          "base_uri": "https://localhost:8080/",
          "height": 282
        },
        "id": "emKBcmxdm20P",
        "outputId": "88c54b8a-eda5-49e1-a4a2-f974bc48a5ba"
      },
      "source": [
        "df_dismissed_promotion.plot(kind='pie', \n",
        "                   title='Распределение по повышениям среди уволенных')"
      ],
      "execution_count": null,
      "outputs": [
        {
          "output_type": "execute_result",
          "data": {
            "text/plain": [
              "<matplotlib.axes._subplots.AxesSubplot at 0x7fe1904ecad0>"
            ]
          },
          "metadata": {},
          "execution_count": 28
        },
        {
          "output_type": "display_data",
          "data": {
            "image/png": "[encoded data removed]",
            "text/plain": [
              "<Figure size 432x288 with 1 Axes>"
            ]
          },
          "metadata": {}
        }
      ]
    },
    {
      "cell_type": "code",
      "metadata": {
        "colab": {
          "base_uri": "https://localhost:8080/"
        },
        "id": "XWhrr0dUm3cn",
        "outputId": "c569a665-122d-4292-da69-3ef691b8419f"
      },
      "source": [
        "df_current_promotion = df_current['promotion_last_5years'].value_counts()\n",
        "df_current_promotion"
      ],
      "execution_count": null,
      "outputs": [
        {
          "output_type": "execute_result",
          "data": {
            "text/plain": [
              "0    11128\n",
              "1      300\n",
              "Name: promotion_last_5years, dtype: int64"
            ]
          },
          "metadata": {},
          "execution_count": 30
        }
      ]
    },
    {
      "cell_type": "code",
      "metadata": {
        "colab": {
          "base_uri": "https://localhost:8080/"
        },
        "id": "VB7JNmpqsNrB",
        "outputId": "6bb9bdf2-fe13-41cc-c028-c9223b681bf2"
      },
      "source": [
        "# доля сотрудников с повышением за последние 5 лет среди действующих в процентах\n",
        "(df_current_promotion[1] * 100) / len(df_current['promotion_last_5years'])  "
      ],
      "execution_count": null,
      "outputs": [
        {
          "output_type": "execute_result",
          "data": {
            "text/plain": [
              "2.625131256562828"
            ]
          },
          "metadata": {},
          "execution_count": 31
        }
      ]
    },
    {
      "cell_type": "code",
      "metadata": {
        "colab": {
          "base_uri": "https://localhost:8080/",
          "height": 282
        },
        "id": "TAO_uG3BnTgt",
        "outputId": "7fc0bf27-11ac-43fb-d179-6c6763cb8af4"
      },
      "source": [
        "df_current_promotion.plot(kind='pie', \n",
        "                   title='Распределение по повышениям среди действующих')"
      ],
      "execution_count": null,
      "outputs": [
        {
          "output_type": "execute_result",
          "data": {
            "text/plain": [
              "<matplotlib.axes._subplots.AxesSubplot at 0x7fe19014af50>"
            ]
          },
          "metadata": {},
          "execution_count": 33
        },
        {
          "output_type": "display_data",
          "data": {
            "image/png": "[encoded data removed]",
            "text/plain": [
              "<Figure size 432x288 with 1 Axes>"
            ]
          },
          "metadata": {}
        }
      ]
    },
    {
      "cell_type": "code",
      "metadata": {
        "colab": {
          "base_uri": "https://localhost:8080/"
        },
        "id": "KviXFa8blIqs",
        "outputId": "46ab9ac9-96e4-423c-c631-3deb71e886b8"
      },
      "source": [
        "# средняя степень удовлетворенности среди уволенных\n",
        "df_dismissed['satisfaction_level'].mean()"
      ],
      "execution_count": null,
      "outputs": [
        {
          "output_type": "execute_result",
          "data": {
            "text/plain": [
              "0.44009801176140917"
            ]
          },
          "metadata": {},
          "execution_count": 34
        }
      ]
    },
    {
      "cell_type": "code",
      "metadata": {
        "colab": {
          "base_uri": "https://localhost:8080/"
        },
        "id": "unDRTNk9l4Rk",
        "outputId": "d203ad93-04d6-4764-b2c8-cb66f1a39f61"
      },
      "source": [
        "# средняя степень удовлетворенности среди действующих\n",
        "df_current['satisfaction_level'].mean()"
      ],
      "execution_count": null,
      "outputs": [
        {
          "output_type": "execute_result",
          "data": {
            "text/plain": [
              "0.666809590479516"
            ]
          },
          "metadata": {},
          "execution_count": 35
        }
      ]
    },
    {
      "cell_type": "code",
      "metadata": {
        "colab": {
          "base_uri": "https://localhost:8080/"
        },
        "id": "n7h6wVM6uf82",
        "outputId": "b4779d6e-9bb5-4b82-a61e-3aada6d56ccf"
      },
      "source": [
        "# среднее количество проектов среди уволенных\n",
        "df_dismissed['number_project'].mean()"
      ],
      "execution_count": null,
      "outputs": [
        {
          "output_type": "execute_result",
          "data": {
            "text/plain": [
              "3.8555026603192384"
            ]
          },
          "metadata": {},
          "execution_count": 36
        }
      ]
    },
    {
      "cell_type": "code",
      "metadata": {
        "colab": {
          "base_uri": "https://localhost:8080/"
        },
        "id": "3gota0XeugjT",
        "outputId": "99573eaf-66fb-43dd-896f-bbe3f7174ae6"
      },
      "source": [
        "# среднее количество проектов среди действующих\n",
        "df_current['number_project'].mean()"
      ],
      "execution_count": null,
      "outputs": [
        {
          "output_type": "execute_result",
          "data": {
            "text/plain": [
              "3.786664333216661"
            ]
          },
          "metadata": {},
          "execution_count": 37
        }
      ]
    },
    {
      "cell_type": "markdown",
      "metadata": {
        "id": "fSbWmncQwOOr"
      },
      "source": [
        "## Задание 9\n",
        "Разделить данные на тестовую и обучающую выборки. Построить модель LDA, предсказывающую уволился ли сотрудник на основе имеющихся факторов (кроме department и salary).\n",
        "\n",
        "Оценить качество модели на тестовой выборки"
      ]
    },
    {
      "cell_type": "code",
      "metadata": {
        "id": "Jp45Wkrlw9Fs",
        "colab": {
          "base_uri": "https://localhost:8080/"
        },
        "outputId": "6d5f2e86-610c-47f3-86c2-144c94353abd"
      },
      "source": [
        "data = df[['satisfaction_level','last_evaluation','number_project','average_montly_hours','time_spend_company','Work_accident','promotion_last_5years']]\n",
        "data_class = df['left'].tolist()\n",
        "\n",
        "# разделяем выборку на тренировочную и тестовую\n",
        "from sklearn.model_selection import train_test_split\n",
        "X_train, X_test, y_train, y_test = train_test_split(data, data_class, test_size=0.33)\n",
        "\n",
        "# импортируем LDA-функционал\n",
        "from sklearn.discriminant_analysis import LinearDiscriminantAnalysis\n",
        "\n",
        "lda = LinearDiscriminantAnalysis()\n",
        "\n",
        "# обучаем данные\n",
        "lda.fit(X_train, y_train)\n",
        "\n",
        "# делаем прогноз на тестовой выборке\n",
        "lda.predict(X_test)"
      ],
      "execution_count": null,
      "outputs": [
        {
          "output_type": "execute_result",
          "data": {
            "text/plain": [
              "array([0, 0, 0, ..., 0, 0, 0])"
            ]
          },
          "metadata": {},
          "execution_count": 36
        }
      ]
    },
    {
      "cell_type": "code",
      "metadata": {
        "colab": {
          "base_uri": "https://localhost:8080/",
          "height": 419
        },
        "id": "GwR7Dud2f308",
        "outputId": "5ee3f185-bb11-47a8-d31c-7010441fec6b"
      },
      "source": [
        "# смотрим разницу факта и прогноза\n",
        "result = pd.DataFrame([y_test, lda.predict(X_test)]).T\n",
        "result"
      ],
      "execution_count": null,
      "outputs": [
        {
          "output_type": "execute_result",
          "data": {
            "text/html": [
              "<div>\n",
              "<style scoped>\n",
              "    .dataframe tbody tr th:only-of-type {\n",
              "        vertical-align: middle;\n",
              "    }\n",
              "\n",
              "    .dataframe tbody tr th {\n",
              "        vertical-align: top;\n",
              "    }\n",
              "\n",
              "    .dataframe thead th {\n",
              "        text-align: right;\n",
              "    }\n",
              "</style>\n",
              "<table border=\"1\" class=\"dataframe\">\n",
              "  <thead>\n",
              "    <tr style=\"text-align: right;\">\n",
              "      <th></th>\n",
              "      <th>0</th>\n",
              "      <th>1</th>\n",
              "    </tr>\n",
              "  </thead>\n",
              "  <tbody>\n",
              "    <tr>\n",
              "      <th>0</th>\n",
              "      <td>0</td>\n",
              "      <td>0</td>\n",
              "    </tr>\n",
              "    <tr>\n",
              "      <th>1</th>\n",
              "      <td>0</td>\n",
              "      <td>0</td>\n",
              "    </tr>\n",
              "    <tr>\n",
              "      <th>2</th>\n",
              "      <td>0</td>\n",
              "      <td>0</td>\n",
              "    </tr>\n",
              "    <tr>\n",
              "      <th>3</th>\n",
              "      <td>1</td>\n",
              "      <td>1</td>\n",
              "    </tr>\n",
              "    <tr>\n",
              "      <th>4</th>\n",
              "      <td>1</td>\n",
              "      <td>1</td>\n",
              "    </tr>\n",
              "    <tr>\n",
              "      <th>...</th>\n",
              "      <td>...</td>\n",
              "      <td>...</td>\n",
              "    </tr>\n",
              "    <tr>\n",
              "      <th>4945</th>\n",
              "      <td>1</td>\n",
              "      <td>1</td>\n",
              "    </tr>\n",
              "    <tr>\n",
              "      <th>4946</th>\n",
              "      <td>0</td>\n",
              "      <td>0</td>\n",
              "    </tr>\n",
              "    <tr>\n",
              "      <th>4947</th>\n",
              "      <td>0</td>\n",
              "      <td>0</td>\n",
              "    </tr>\n",
              "    <tr>\n",
              "      <th>4948</th>\n",
              "      <td>1</td>\n",
              "      <td>0</td>\n",
              "    </tr>\n",
              "    <tr>\n",
              "      <th>4949</th>\n",
              "      <td>0</td>\n",
              "      <td>0</td>\n",
              "    </tr>\n",
              "  </tbody>\n",
              "</table>\n",
              "<p>4950 rows × 2 columns</p>\n",
              "</div>"
            ],
            "text/plain": [
              "      0  1\n",
              "0     0  0\n",
              "1     0  0\n",
              "2     0  0\n",
              "3     1  1\n",
              "4     1  1\n",
              "...  .. ..\n",
              "4945  1  1\n",
              "4946  0  0\n",
              "4947  0  0\n",
              "4948  1  0\n",
              "4949  0  0\n",
              "\n",
              "[4950 rows x 2 columns]"
            ]
          },
          "metadata": {},
          "execution_count": 37
        }
      ]
    },
    {
      "cell_type": "code",
      "metadata": {
        "colab": {
          "base_uri": "https://localhost:8080/"
        },
        "id": "adnS9InCgM33",
        "outputId": "33da164f-cd76-4e03-a43d-dd565f451ef8"
      },
      "source": [
        "# расчет точности \n",
        "from sklearn.metrics import accuracy_score\n",
        "accuracy_score(y_test, lda.predict(X_test))"
      ],
      "execution_count": null,
      "outputs": [
        {
          "output_type": "execute_result",
          "data": {
            "text/plain": [
              "0.7575757575757576"
            ]
          },
          "metadata": {},
          "execution_count": 40
        }
      ]
    },
    {
      "cell_type": "code",
      "metadata": {
        "colab": {
          "base_uri": "https://localhost:8080/"
        },
        "id": "2b7YOd1UgPtI",
        "outputId": "3169e682-ff2a-4c74-ec39-832305885832"
      },
      "source": [
        "# коэффициенты дискриминатных линий\n",
        "lda.coef_"
      ],
      "execution_count": null,
      "outputs": [
        {
          "output_type": "execute_result",
          "data": {
            "text/plain": [
              "array([[-4.45029875e+00,  7.98719345e-01, -2.61130667e-01,\n",
              "         4.24679254e-03,  2.63715827e-01, -1.13713536e+00,\n",
              "        -1.06962813e+00]])"
            ]
          },
          "metadata": {},
          "execution_count": 39
        }
      ]
    },
    {
      "cell_type": "markdown",
      "metadata": {
        "id": "jL-ndNh9xERD"
      },
      "source": [
        "## Задание 10\n",
        "Загрузить jupyter notebook с решение на github и прислать ссылку"
      ]
    },
    {
      "cell_type": "markdown",
      "metadata": {
        "id": "8etLHobxxPrA"
      },
      "source": [
        "\n",
        "Ссылка на Гугл Колаб:\n",
        "https://colab.research.google.com/drive/13gtQ0O81bym4M5tTJvnGaGgTsnCYB_4z?usp=sharing "
      ]
    }
  ]
}